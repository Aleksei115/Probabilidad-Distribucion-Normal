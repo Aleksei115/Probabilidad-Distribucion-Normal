{
  "nbformat": 4,
  "nbformat_minor": 0,
  "metadata": {
    "colab": {
      "name": "ProyectoProbabilidad.ipynb",
      "provenance": [],
      "collapsed_sections": [],
      "authorship_tag": "ABX9TyOcu32yGLrR4fhTsfkkW7Sr",
      "include_colab_link": true
    },
    "kernelspec": {
      "name": "python3",
      "display_name": "Python 3"
    },
    "language_info": {
      "name": "python"
    }
  },
  "cells": [
    {
      "cell_type": "markdown",
      "metadata": {
        "id": "view-in-github",
        "colab_type": "text"
      },
      "source": [
        "<a href=\"https://colab.research.google.com/github/Aleksei115/Probabilidad-Distribucion-Normal/blob/main/ProyectoProbabilidad.ipynb\" target=\"_parent\"><img src=\"https://colab.research.google.com/assets/colab-badge.svg\" alt=\"Open In Colab\"/></a>"
      ]
    },
    {
      "cell_type": "markdown",
      "source": [
        "# Distribución Normal"
      ],
      "metadata": {
        "id": "g-z39N_DY8dW"
      }
    },
    {
      "cell_type": "markdown",
      "source": [
        "#### Autor: \"Aleksei Ithan García Díaz\"\n"
      ],
      "metadata": {
        "id": "3CUzp0rVZdit"
      }
    },
    {
      "cell_type": "markdown",
      "source": [
        "Para este proyecto, se decidio utilizar un dataframe que recaba datos del clima desde el año 2006 hasta el 2016. El dataframe consta de varias columnas con datos variados, desde la fecha en la que se hizo la medición, hasta una describción breve del clima de el dia en curso.\n",
        "\n",
        "La distribución de probabilidad continua más importante en todo el campo de la estadística es la distribución normal.\n",
        "\n",
        "La cual describe de manera aproximada muchos fenómenos que ocurren en la naturaleza, la industria y la investigación. \n",
        "Por ejemplo, las mediciones físicas en áreas como los experimentos meteorológicos, estudios de la precipitaciónpluvial y mediciones de partes fabricadas a menudo se explican más que adecuadamente con una distribución normal. Además, los errores en las mediciones científicas se aproximan muy bien mediante una distribución normal.\n",
        "\n",
        "\n",
        "La densidad de la variable aleatoria normal $X$, con media $μ$ y desviación estándar $σ^2$, es\n",
        "\n",
        "$$n(x ; μ, σ) = \\frac{1}{\\sqrt(2πσ)}⋅e^-(\\frac{1}{2σ^2})⋅(x-μ)^2, \\hspace{1cm} -∞ < x< ∞ $$\n",
        "\n",
        "donde π = 3.14159. . . y e = 2.71828"
      ],
      "metadata": {
        "id": "PHaZ1THaZluQ"
      }
    },
    {
      "cell_type": "markdown",
      "source": [
        "El dataframe que ocupo consta de casi $19,000$ filas, varias mediciones repetidas y son mediciones diarias, por lo que decidi hacer un tratamiento de los datos para obtener el promedio de cada año y poder obtener mi distribución normal sobre ese dataframe más reducido, además de que para esta distribución solo se centrara en crear la distribución con los datos obtenidos de las velocidades del viento, asi que los demás datos no me son de utilidad.\n",
        "\n"
      ],
      "metadata": {
        "id": "V-z_d8a-idBi"
      }
    },
    {
      "cell_type": "markdown",
      "source": [
        "*Las librerias que utilizaré son:*"
      ],
      "metadata": {
        "id": "xIHqK_NcjwNn"
      }
    },
    {
      "cell_type": "code",
      "source": [
        "import math\n",
        "import pandas as pd\n",
        "import numpy as np\n",
        "import matplotlib.pyplot as plt\n",
        "from scipy import stats"
      ],
      "metadata": {
        "id": "Uf7Pqzreju19"
      },
      "execution_count": 1,
      "outputs": []
    },
    {
      "cell_type": "markdown",
      "source": [
        "*En la siguiente sección es haré el tratamiento de los datos:*"
      ],
      "metadata": {
        "id": "yYuCZRFIlf-j"
      }
    },
    {
      "cell_type": "code",
      "source": [
        "#Cargo mi archivo con los datos\n",
        "df = pd.read_csv(\"./weatherHistory.csv\")\n",
        "\n",
        "#Creo el dataframe\n",
        "datos = pd.DataFrame(df)\n",
        "\n",
        "# Agregamos una columna que tenga formato de fecha\n",
        "datos[[\"Date-Time\",\"TZ\"]]=datos[\"Formatted Date\"].str.split(\"+\",expand=True)\n",
        "\n",
        "# Eliminamos la columna Formatted Date y creamos un nuevo dataset \n",
        "datos1 = datos.drop(columns=\"Formatted Date\")\\\n",
        "\n",
        "#Creo un orden para todas las columnas  \n",
        "columns_order=[\"Date-Time\",\"TZ\",\"Summary\",\"Precip Type\",\"Temperature (C)\",\"Apparent Temperature (C)\",\n",
        "                \"Humidity\",\"Wind Speed (km/h)\",\"Wind Bearing (degrees)\",\"Visibility (km)\",\"Loud Cover\",\n",
        "                \"Pressure (millibars)\", \"Daily Summary\"]\n",
        "\n",
        "#Reordeno mi dataframe con el orden que cree para las columnas \n",
        "datos1 = datos1.reindex(columns=columns_order)\n",
        "\n",
        "#Elimino la columna TZ\n",
        "datos1 = datos1.drop(columns=\"TZ\")\n",
        "\n",
        "#Doy fomato a las fechas\n",
        "\n",
        "datos1[\"Date-Time\"] = pd.to_datetime(datos1[\"Date-Time\"])\n",
        "datos1[\"Year\"] = datos1[\"Date-Time\"].dt.year\n",
        "datos1[\"Month\"] = datos1[\"Date-Time\"].dt.month\n",
        "datos1[\"Day\"] = datos1[\"Date-Time\"].dt.day\n",
        "\n",
        "#Elimino la columna Date-Time\n",
        "datos1 = datos1.drop(columns=\"Date-Time\")\n",
        "\n",
        "#Una vez que he extraido el año,mes y dia de la columna Date Time, agrego esas columnas respectivamente\n",
        "columns_order=[\"Dia\",\"Mes\",\"Year\",\"Summary\",\"Precip Type\",\"Temperature (C)\",\"Apparent Temperature (C)\",\n",
        "                \"Humidity\",\"Wind Speed (km/h)\",\"Wind Bearing (degrees)\",\"Visibility (km)\",\"Loud Cover\",\n",
        "                \"Pressure (millibars)\", \"Daily Summary\"]\n",
        "\n",
        "#Reordeno las columnas con el nuevo orden que creé\n",
        "datos1 = datos1.reindex(columns=columns_order)\n"
      ],
      "metadata": {
        "id": "FTEozzOokSEU"
      },
      "execution_count": 4,
      "outputs": []
    },
    {
      "cell_type": "markdown",
      "source": [
        "La siguiente linea es muy importante, ya que en esa linea tomaré la columna de \"Wind Speed (km/h)\" y haré dataframe con los promedios de todas las velocidades por año, es decir si hubieron $2,000$ mediciones en el año 2016, sacaré el promedio de esas mediciones y lo meteré en un dataframe."
      ],
      "metadata": {
        "id": "QgbibwjomlNM"
      }
    },
    {
      "cell_type": "code",
      "source": [
        "promedio_velocidad_viento = pd.DataFrame(datos1.groupby(\"Year\")[\"Wind Speed (km/h)\"].mean())"
      ],
      "metadata": {
        "id": "W4OKlQ5fnIXL"
      },
      "execution_count": 5,
      "outputs": []
    },
    {
      "cell_type": "markdown",
      "source": [
        "*El dataframe se ve de la siguiente manera:*"
      ],
      "metadata": {
        "id": "RIY4G6zvnPzp"
      }
    },
    {
      "cell_type": "code",
      "source": [
        "print(promedio_velocidad_viento)"
      ],
      "metadata": {
        "colab": {
          "base_uri": "https://localhost:8080/"
        },
        "id": "9iOsu9obnV8D",
        "outputId": "e7df69bb-8dc8-4e83-d84d-760b96269c68"
      },
      "execution_count": 6,
      "outputs": [
        {
          "output_type": "stream",
          "name": "stdout",
          "text": [
            "      Wind Speed (km/h)\n",
            "Year                   \n",
            "2006          10.189852\n",
            "2007          10.825392\n",
            "2008          11.303897\n",
            "2009          11.505948\n",
            "2010          11.015628\n",
            "2011           9.898262\n",
            "2012          11.264545\n",
            "2013          10.969389\n",
            "2014          10.502473\n",
            "2015          10.735247\n",
            "2016          10.703441\n"
          ]
        }
      ]
    },
    {
      "cell_type": "markdown",
      "source": [
        "Para la distribucion normal se necesita la media y la desviación estándar, así que la debo calcular."
      ],
      "metadata": {
        "id": "o2RWXboSnqwY"
      }
    },
    {
      "cell_type": "code",
      "source": [
        "media_lista = promedio_velocidad_viento[\"Wind Speed (km/h)\"].tolist()\n",
        "\n",
        "media = 0\n",
        "for elemento in media_lista:\n",
        "  media += elemento\n",
        "\n",
        "media = media / len(media_lista) \n",
        "\n",
        "#Tambien se puede utilizar la libreria de pandas para obtener la desviación estándar rápidamente \n",
        "desv = promedio_velocidad_viento[\"Wind Speed (km/h)\"].std()\n"
      ],
      "metadata": {
        "id": "lijblXIRoIXq"
      },
      "execution_count": 15,
      "outputs": []
    },
    {
      "cell_type": "markdown",
      "source": [
        "### $$μ = 10.81$$\n",
        "### $$σ = 0.482$$ "
      ],
      "metadata": {
        "id": "iFt9Dya3p9zY"
      }
    },
    {
      "cell_type": "markdown",
      "source": [
        "Ahora lo que haremos es construir la gráfica de nuestra distribución normal"
      ],
      "metadata": {
        "id": "trXN_gvcrDOq"
      }
    },
    {
      "cell_type": "code",
      "source": [
        "#Crearemos un array desde 8 hasta 14 para graficar la curva normal \n",
        "\n",
        "x = np.arange(8, 14, .2)\n",
        "#Calcuré rapidamente los valores para Y con un objeto ya programado de la libreria scipy\n",
        "y = stats.norm.pdf(x, media, desv)\n",
        "\n",
        "#Grafico \n",
        "\n",
        "plt.plot(x, y)\n",
        "plt.title(\"Distribución Normal de las velocidades del viento\")\n",
        "plt.xlabel(\"x\")\n",
        "plt.ylabel(\"f(x)\")\n"
      ],
      "metadata": {
        "colab": {
          "base_uri": "https://localhost:8080/",
          "height": 312
        },
        "id": "pvrl83FarLpl",
        "outputId": "6fcca3e0-92b4-4c72-c336-6a862993c90b"
      },
      "execution_count": 18,
      "outputs": [
        {
          "output_type": "execute_result",
          "data": {
            "text/plain": [
              "Text(0, 0.5, 'f(x)')"
            ]
          },
          "metadata": {},
          "execution_count": 18
        },
        {
          "output_type": "display_data",
          "data": {
            "text/plain": [
              "<Figure size 432x288 with 1 Axes>"
            ],
            "image/png": "[encoded data removed]"
          },
          "metadata": {
            "needs_background": "light"
          }
        }
      ]
    },
    {
      "cell_type": "markdown",
      "source": [
        "Una vez que tenemos la distribución, nos es útil para contestar la pregunta.\n",
        "\n",
        "¿Cuál es la probabilidad de que la velocidad de viento sea  mayor a 11 $\\frac{km}{h}$ ?\n",
        "La respuesta se contesta con $$\\int_{11}^{∞} n(x ; 10.81, 0.482) dx $$"
      ],
      "metadata": {
        "id": "9q3T0FxTtSnG"
      }
    },
    {
      "cell_type": "code",
      "source": [
        "prob = 1 - stats.norm.cdf(11, loc=media, scale=desv)  # Calcula P(X>11)\n",
        "print(prob)"
      ],
      "metadata": {
        "colab": {
          "base_uri": "https://localhost:8080/"
        },
        "id": "-nUFrZaIuNpu",
        "outputId": "41ed2660-dcc8-4934-f437-bfb8f5ce742f"
      },
      "execution_count": 20,
      "outputs": [
        {
          "output_type": "stream",
          "name": "stdout",
          "text": [
            "0.34722014659395994\n"
          ]
        }
      ]
    },
    {
      "cell_type": "markdown",
      "source": [
        "$$\\int_{11}^{∞} n(x ; 10.81, 0.482) dx =  0.347$$"
      ],
      "metadata": {
        "id": "Yn-PM_5evMqG"
      }
    }
  ]
}